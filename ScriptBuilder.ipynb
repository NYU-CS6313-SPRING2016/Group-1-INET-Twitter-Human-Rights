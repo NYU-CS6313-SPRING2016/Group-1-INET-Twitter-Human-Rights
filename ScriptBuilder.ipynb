{
 "cells": [
  {
   "cell_type": "code",
   "execution_count": 37,
   "metadata": {
    "collapsed": false
   },
   "outputs": [],
   "source": [
    "import pandas as pd\n",
    "import numpy as np"
   ]
  },
  {
   "cell_type": "code",
   "execution_count": 38,
   "metadata": {
    "collapsed": false
   },
   "outputs": [],
   "source": [
    "# read in the file\n",
    "# the main body\n",
    "data = pd.read_csv('output/twitterDB_all.csv',header=None)\n",
    "data.columns = ['tweet', 'city']\n",
    "# dropna\n",
    "data_clean = data.dropna()\n",
    "# create a new column\n",
    "data_clean.loc[:, 'senti_score'] = np.nan\n",
    "# select the tweet content before the http\n",
    "import re\n",
    "regex = '(\\shttp[s]:\\\\\\\\)'\n",
    "data_clean.loc[:,'tweet_content'] = data_clean.tweet \\\n",
    "                                               .apply(lambda x:\n",
    "                                                      re.split(regex, x)[0])\n",
    "# select\n",
    "regex2 = '\\s@.+\\:\\s'\n",
    "data_clean.loc[:, 'tweet_content'] = data_clean.tweet_content \\\n",
    "                                        .apply(lambda x:\n",
    "                                               re.split(regex2, x)[-1])"
   ]
  },
  {
   "cell_type": "code",
   "execution_count": 39,
   "metadata": {
    "collapsed": false
   },
   "outputs": [],
   "source": [
    "# sentimental analysis\n",
    "from textblob import TextBlob\n",
    "def sentiAnalyze(x):\n",
    "    return TextBlob(x).sentiment[0]\n",
    "data_clean.loc[:, 'senti_score'] = data_clean.tweet_content \\\n",
    "                                             .apply(lambda x: sentiAnalyze(x))"
   ]
  },
  {
   "cell_type": "code",
   "execution_count": 40,
   "metadata": {
    "collapsed": false
   },
   "outputs": [],
   "source": [
    "# dataframe with sentimental score and city names\n",
    "data_city = data_clean[['city', 'senti_score', 'tweet_content']]\n",
    "data_city.reset_index(drop=True, inplace=True)"
   ]
  },
  {
   "cell_type": "code",
   "execution_count": 43,
   "metadata": {
    "collapsed": false
   },
   "outputs": [],
   "source": [
    "# change city name to country name\n",
    "import os\n",
    "import requests\n",
    "\n",
    "\n",
    "google_api_key = os.getenv('GOOGLE_MAPS_API_KEY')\n",
    "# country = {}\n",
    "def getCountry(city):\n",
    "    url = \"https://maps.googleapis.com/maps/api/geocode/json?\"\n",
    "    params = {'address': city,\n",
    "              'key': google_api_key}\n",
    "    data_json = requests.get(url, params).json()\n",
    "    if data_json:\n",
    "        for entry in data_json['results']:\n",
    "            return entry['formatted_address'].split(', ')[-1]\n",
    "\n",
    "\n",
    "data_city.loc[:, 'country'] = data_city.loc[:, 'city'].apply(lambda x: getCountry(x))"
   ]
  },
  {
   "cell_type": "code",
   "execution_count": 46,
   "metadata": {
    "collapsed": true
   },
   "outputs": [],
   "source": [
    "data_country = data_city[['tweet_content', 'senti_score', 'country']]"
   ]
  },
  {
   "cell_type": "code",
   "execution_count": 48,
   "metadata": {
    "collapsed": false
   },
   "outputs": [],
   "source": [
    "twitter = data_country[['country', 'tweet_content', 'senti_score']]"
   ]
  },
  {
   "cell_type": "code",
   "execution_count": null,
   "metadata": {
    "collapsed": true
   },
   "outputs": [],
   "source": [
    "# wordcount\n",
    "from string import punctuation\n",
    "\n",
    "\n",
    "j = reduce(lambda x, y: x + y, twitters.groupby('country_list'))\n",
    "dic = {}\n",
    "for n in range(len(j)/2):\n",
    "    dic[str(j[2*n])] = j[2*n+1]\n",
    "dic2 = {}\n",
    "for p in dic.iterkeys():\n",
    "    dic2[p] = reduce(lambda x, y: x+y, dic[p]['tweet_content'])"
   ]
  },
  {
   "cell_type": "code",
   "execution_count": 51,
   "metadata": {
    "collapsed": false
   },
   "outputs": [
    {
     "data": {
      "text/html": [
       "<div>\n",
       "<table border=\"1\" class=\"dataframe\">\n",
       "  <thead>\n",
       "    <tr style=\"text-align: right;\">\n",
       "      <th></th>\n",
       "      <th>country</th>\n",
       "      <th>tweet_content</th>\n",
       "      <th>senti_score</th>\n",
       "    </tr>\n",
       "  </thead>\n",
       "  <tbody>\n",
       "    <tr>\n",
       "      <th>0</th>\n",
       "      <td>Canada</td>\n",
       "      <td>Disturbing footage shows horrific reality for ...</td>\n",
       "      <td>-0.3</td>\n",
       "    </tr>\n",
       "    <tr>\n",
       "      <th>1</th>\n",
       "      <td>Canada</td>\n",
       "      <td>A chess set from cheese cartons. A game of sur...</td>\n",
       "      <td>-0.4</td>\n",
       "    </tr>\n",
       "    <tr>\n",
       "      <th>2</th>\n",
       "      <td>Canada</td>\n",
       "      <td>May Allah curse Bashar al Asad &amp;amp; his allie...</td>\n",
       "      <td>0.0</td>\n",
       "    </tr>\n",
       "    <tr>\n",
       "      <th>3</th>\n",
       "      <td>Spain</td>\n",
       "      <td>Disturbing footage shows horrific reality for ...</td>\n",
       "      <td>-0.3</td>\n",
       "    </tr>\n",
       "    <tr>\n",
       "      <th>4</th>\n",
       "      <td>Denmark</td>\n",
       "      <td>Absurd at h\\u00f8re #dkpol \\u00e6vle om at IS ...</td>\n",
       "      <td>-0.5</td>\n",
       "    </tr>\n",
       "  </tbody>\n",
       "</table>\n",
       "</div>"
      ],
      "text/plain": [
       "   country                                      tweet_content  senti_score\n",
       "0   Canada  Disturbing footage shows horrific reality for ...         -0.3\n",
       "1   Canada  A chess set from cheese cartons. A game of sur...         -0.4\n",
       "2   Canada  May Allah curse Bashar al Asad &amp; his allie...          0.0\n",
       "3    Spain  Disturbing footage shows horrific reality for ...         -0.3\n",
       "4  Denmark  Absurd at h\\u00f8re #dkpol \\u00e6vle om at IS ...         -0.5"
      ]
     },
     "execution_count": 51,
     "metadata": {},
     "output_type": "execute_result"
    }
   ],
   "source": [
    "unit = twitter.head(5)\n",
    "unit"
   ]
  },
  {
   "cell_type": "code",
   "execution_count": null,
   "metadata": {
    "collapsed": true
   },
   "outputs": [],
   "source": []
  },
  {
   "cell_type": "code",
   "execution_count": null,
   "metadata": {
    "collapsed": false,
    "scrolled": true
   },
   "outputs": [],
   "source": []
  },
  {
   "cell_type": "code",
   "execution_count": null,
   "metadata": {
    "collapsed": true
   },
   "outputs": [],
   "source": []
  },
  {
   "cell_type": "code",
   "execution_count": null,
   "metadata": {
    "collapsed": true
   },
   "outputs": [],
   "source": []
  }
 ],
 "metadata": {
  "kernelspec": {
   "display_name": "Python 2",
   "language": "python",
   "name": "python2"
  },
  "language_info": {
   "codemirror_mode": {
    "name": "ipython",
    "version": 2
   },
   "file_extension": ".py",
   "mimetype": "text/x-python",
   "name": "python",
   "nbconvert_exporter": "python",
   "pygments_lexer": "ipython2",
   "version": "2.7.11"
  }
 },
 "nbformat": 4,
 "nbformat_minor": 0
}
